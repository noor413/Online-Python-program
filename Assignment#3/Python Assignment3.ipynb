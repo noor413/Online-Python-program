{
 "cells": [
  {
   "cell_type": "code",
   "execution_count": 1,
   "metadata": {},
   "outputs": [
    {
     "name": "stdout",
     "output_type": "stream",
     "text": [
      "Twinkle,twinkle,little star,\n",
      "\tHow I wonder what you are!\n",
      "\t\tUp above the world so high,\n",
      "\t\tLike a diamond in the sky.\n",
      "Twinkle,twinkle,little star,\n",
      "\tHow I wonder what you are\n"
     ]
    }
   ],
   "source": [
    "print(\"Twinkle,twinkle,little star,\")\n",
    "print(\"\\tHow I wonder what you are!\")\n",
    "print(\"\\t\\tUp above the world so high,\")\n",
    "print(\"\\t\\tLike a diamond in the sky.\")\n",
    "print(\"Twinkle,twinkle,little star,\")\n",
    "print(\"\\tHow I wonder what you are\")\n"
   ]
  },
  {
   "cell_type": "code",
   "execution_count": 2,
   "metadata": {},
   "outputs": [
    {
     "name": "stdout",
     "output_type": "stream",
     "text": [
      "Python Version\n",
      "3.8.3 (default, Jul  2 2020, 17:28:51) [MSC v.1916 32 bit (Intel)]\n"
     ]
    }
   ],
   "source": [
    "import sys\n",
    "\n",
    "print(\"Python Version\")\n",
    "print(sys.version)"
   ]
  },
  {
   "cell_type": "code",
   "execution_count": 7,
   "metadata": {},
   "outputs": [
    {
     "name": "stdout",
     "output_type": "stream",
     "text": [
      "Today date and Time: 2021-10-22 21:28:55.439209\n"
     ]
    }
   ],
   "source": [
    "import datetime\n",
    "\n",
    "today = datetime.datetime.now()\n",
    "print(\"Today date and Time:\",today)"
   ]
  },
  {
   "cell_type": "code",
   "execution_count": 12,
   "metadata": {},
   "outputs": [
    {
     "name": "stdout",
     "output_type": "stream",
     "text": [
      "Enter radius3\n",
      "28.278\n"
     ]
    }
   ],
   "source": [
    "pie = float(3.142)\n",
    "rad = float(input(\"Enter radius\"))\n",
    "Area = pie *(rad**2)\n",
    "print(Area)"
   ]
  },
  {
   "cell_type": "code",
   "execution_count": 8,
   "metadata": {},
   "outputs": [
    {
     "name": "stdout",
     "output_type": "stream",
     "text": [
      "Enter First Name :noor\n",
      "Enter Last Name :sehar\n",
      "sehar noor\n"
     ]
    }
   ],
   "source": [
    "fname = input(\"Enter First Name :\")\n",
    "lname = input(\"Enter Last Name :\")\n",
    "temp = lname\n",
    "lname = fname\n",
    "fname = temp\n",
    "print(fname+\" \"+lname)\n"
   ]
  },
  {
   "cell_type": "code",
   "execution_count": 9,
   "metadata": {},
   "outputs": [
    {
     "name": "stdout",
     "output_type": "stream",
     "text": [
      "value 1 :2\n",
      "value 2 :3\n",
      "5\n"
     ]
    }
   ],
   "source": [
    "inp1 = int(input(\"value 1 :\"))\n",
    "inp2 = int(input(\"value 2 :\"))\n",
    "print(inp1 + inp2)"
   ]
  },
  {
   "cell_type": "code",
   "execution_count": 17,
   "metadata": {},
   "outputs": [
    {
     "name": "stdout",
     "output_type": "stream",
     "text": [
      "Enter English Marks: -67\n",
      "Enter Maths Marks: 98\n",
      "Enter Islamiat Marks: 78\n",
      "Enter Science Marks: -65\n",
      "Enter Computer Marks: 49\n",
      "18.6\n",
      "Invalid Number\n"
     ]
    }
   ],
   "source": [
    "eng = int(input(\"Enter English Marks: \"))\n",
    "maths = int(input(\"Enter Maths Marks: \"))\n",
    "isl = int(input(\"Enter Islamiat Marks: \"))\n",
    "sci = int(input(\"Enter Science Marks: \"))\n",
    "comp = int(input(\"Enter Computer Marks: \"))\n",
    "tot = eng+maths+isl+sci+comp\n",
    "perc = (tot/500)*100\n",
    "print(perc)\n",
    "\n",
    "if(perc >=80 and perc <= 100):\n",
    "    print(\"A++\")\n",
    "elif(perc >=70 and perc < 80):\n",
    "    print(\"A\")\n",
    "elif(perc >=60 and perc < 70):\n",
    "    print(\"B\")\n",
    "elif(perc >=50 and perc < 60):\n",
    "    print(\"D\")\n",
    "elif(perc >=40 and perc < 50):\n",
    "    print(\"E\")\n",
    "elif(perc >=35 and perc < 40 and per>=0):\n",
    "    print(\"F\")\n",
    "else:\n",
    "    print(\"Invalid Number\")"
   ]
  },
  {
   "cell_type": "code",
   "execution_count": 24,
   "metadata": {},
   "outputs": [
    {
     "name": "stdout",
     "output_type": "stream",
     "text": [
      "Enter value : 1\n",
      "ODD Number\n"
     ]
    }
   ],
   "source": [
    "val = int(input(\"Enter value : \"))\n",
    "if(val%2 == 0):\n",
    "    print(\"EVEN Number\")\n",
    "else:\n",
    "    print(\"ODD Number\")\n"
   ]
  },
  {
   "cell_type": "code",
   "execution_count": 30,
   "metadata": {},
   "outputs": [
    {
     "name": "stdout",
     "output_type": "stream",
     "text": [
      "9\n"
     ]
    }
   ],
   "source": [
    "values = [2,4,5,7,8,99,9,4,7]\n",
    "print(len(values))\n"
   ]
  },
  {
   "cell_type": "code",
   "execution_count": 38,
   "metadata": {},
   "outputs": [
    {
     "name": "stdout",
     "output_type": "stream",
     "text": [
      "Sum of elements in given list is : 29\n"
     ]
    }
   ],
   "source": [
    "lst = [2,3,4,5,6,9]\n",
    "print(\"Sum of elements in given list is :\", sum(lst))"
   ]
  },
  {
   "cell_type": "code",
   "execution_count": 33,
   "metadata": {},
   "outputs": [
    {
     "name": "stdout",
     "output_type": "stream",
     "text": [
      "200\n"
     ]
    }
   ],
   "source": [
    "num = [2,4,5,7,8,99,200,4,7]\n",
    "print(max(num))\n"
   ]
  },
  {
   "cell_type": "code",
   "execution_count": 41,
   "metadata": {},
   "outputs": [
    {
     "name": "stdout",
     "output_type": "stream",
     "text": [
      "1\n",
      "1\n",
      "2\n",
      "3\n"
     ]
    }
   ],
   "source": [
    "a = [1, 1, 2, 3, 5, 8, 13, 21, 34, 55, 89]\n",
    "\n",
    "for num in a:\n",
    "    if num<5:\n",
    "        print(num)"
   ]
  }
 ],
 "metadata": {
  "kernelspec": {
   "display_name": "Python 3",
   "language": "python",
   "name": "python3"
  },
  "language_info": {
   "codemirror_mode": {
    "name": "ipython",
    "version": 3
   },
   "file_extension": ".py",
   "mimetype": "text/x-python",
   "name": "python",
   "nbconvert_exporter": "python",
   "pygments_lexer": "ipython3",
   "version": "3.8.3"
  }
 },
 "nbformat": 4,
 "nbformat_minor": 4
}
